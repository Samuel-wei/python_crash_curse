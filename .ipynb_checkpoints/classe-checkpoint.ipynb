{
 "cells": [
  {
   "cell_type": "markdown",
   "metadata": {},
   "source": [
    "# 第9章 类"
   ]
  },
  {
   "cell_type": "code",
   "execution_count": 6,
   "metadata": {},
   "outputs": [],
   "source": [
    "class Dog():\n",
    "    \"\"\"一次模拟小狗的简单尝试\"\"\"\n",
    "    \n",
    "    def __init__(self, name, age):\n",
    "        \"\"\"初始化属性name和age\"\"\"\n",
    "        self.name = name\n",
    "        self.age = age\n",
    "        \n",
    "        \n",
    "    def sit(self):\n",
    "        \"\"\"模拟小狗被命令时蹲下\"\"\"\n",
    "        print(self.name.title() + \" is now sitting.\")\n",
    "        \n",
    "    \n",
    "    def roll_over(self):\n",
    "        \"\"\"模拟小狗被命令时滚地\"\"\"\n",
    "        print(self.name.title() + \" rolled over!\")"
   ]
  },
  {
   "cell_type": "markdown",
   "metadata": {},
   "source": [
    "### 9.1.2 根据类创建实例"
   ]
  },
  {
   "cell_type": "code",
   "execution_count": 7,
   "metadata": {},
   "outputs": [
    {
     "name": "stdout",
     "output_type": "stream",
     "text": [
      "My dog'name is Willie.\n",
      "My dog is 6 years old.\n"
     ]
    }
   ],
   "source": [
    "# class Dog():\n",
    "    # --snip--\n",
    "    \n",
    "my_dog = Dog('willie', 6)\n",
    "\n",
    "print(\"My dog'name is \" + my_dog.name.title() + \".\")\n",
    "print(\"My dog is \" + str(my_dog.age) + \" years old.\")"
   ]
  },
  {
   "cell_type": "code",
   "execution_count": 8,
   "metadata": {},
   "outputs": [
    {
     "name": "stdout",
     "output_type": "stream",
     "text": [
      "Willie is now sitting.\n",
      "Willie rolled over!\n"
     ]
    }
   ],
   "source": [
    "my_dog = Dog('willie', 6)\n",
    "my_dog.sit()\n",
    "my_dog.roll_over()"
   ]
  },
  {
   "cell_type": "code",
   "execution_count": 10,
   "metadata": {},
   "outputs": [
    {
     "name": "stdout",
     "output_type": "stream",
     "text": [
      "My dogs name is  Willie.\n",
      "My dog is 6 years old.\n",
      "Willie is now sitting.\n",
      "\n",
      "Your dog name is Lucy.\n",
      "Your dog is 3 years old.\n",
      "Lucy is now sitting.\n"
     ]
    }
   ],
   "source": [
    "my_dog = Dog('willie', 6)\n",
    "your_dog = Dog('lucy', 3)\n",
    "\n",
    "print(\"My dogs name is  \" + my_dog.name.title() + \".\")\n",
    "print(\"My dog is \" + str(my_dog.age) + \" years old.\")\n",
    "my_dog.sit()\n",
    "\n",
    "print(\"\\nYour dog name is \" + your_dog.name.title() + \".\")\n",
    "print(\"Your dog is \" + str(your_dog.age) + \" years old.\")\n",
    "your_dog.sit()"
   ]
  },
  {
   "cell_type": "markdown",
   "metadata": {},
   "source": [
    "### 动手试一试"
   ]
  },
  {
   "cell_type": "code",
   "execution_count": 29,
   "metadata": {},
   "outputs": [],
   "source": [
    "class Restaurant():\n",
    "    \"\"\"餐馆的名称和菜单\"\"\"\n",
    "    \n",
    "    def __init__(self, restaurant_name, cuisin_type):\n",
    "        \"\"\"初始化name和type属性\"\"\"\n",
    "        self.restaurant_name = restaurant_name\n",
    "        self.cuisin_type = cuisin_type\n",
    "        \n",
    "        \n",
    "    def describe_restaurant(self):\n",
    "        \"\"\"模拟打印两个信息\"\"\"\n",
    "        print(\"\\nThe restaurant's name is \" + self.restaurant_name.title())\n",
    "        print(\"The menu have \" + self.cuisin_type)\n",
    "        \n",
    "    def open_restaurant(self):\n",
    "        \"\"\"打印餐馆正在营业\"\"\"\n",
    "        print(\"\\nThe \" + self.restaurant_name.title() + \" is openning.\")"
   ]
  },
  {
   "cell_type": "code",
   "execution_count": 30,
   "metadata": {},
   "outputs": [
    {
     "name": "stdout",
     "output_type": "stream",
     "text": [
      "The restaurant's name is Kfc\n",
      "The cuisin is Fries\n",
      "\n",
      "The restaurant's name is Kfc\n",
      "The menu have Fries\n",
      "\n",
      "The Kfc is openning.\n"
     ]
    }
   ],
   "source": [
    "restaurant = Restaurant('KFC', 'Fries')\n",
    "print(\"The restaurant's name is \" + restaurant.restaurant_name.title())\n",
    "print(\"The cuisin is \" + restaurant.cuisin_type)\n",
    "\n",
    "restaurant.describe_restaurant()\n",
    "restaurant.open_restaurant()"
   ]
  },
  {
   "cell_type": "code",
   "execution_count": 32,
   "metadata": {},
   "outputs": [
    {
     "name": "stdout",
     "output_type": "stream",
     "text": [
      "\n",
      "The restaurant's name is Mcdonald\n",
      "The menu have Fries\n"
     ]
    }
   ],
   "source": [
    "mcdonald = Restaurant('McDonald', 'Fries')\n",
    "mcdonald.describe_restaurant()"
   ]
  },
  {
   "cell_type": "code",
   "execution_count": 33,
   "metadata": {},
   "outputs": [
    {
     "name": "stdout",
     "output_type": "stream",
     "text": [
      "\n",
      "The restaurant's name is Whole Food\n",
      "The menu have beef\n"
     ]
    }
   ],
   "source": [
    "whole_food = Restaurant('whole food', 'beef')\n",
    "whole_food.describe_restaurant()"
   ]
  },
  {
   "cell_type": "code",
   "execution_count": 47,
   "metadata": {},
   "outputs": [],
   "source": [
    "class User():\n",
    "    \"\"\"用户的姓名和简单信息\"\"\"\n",
    "    \n",
    "    def __init__(self, first_name, last_name, age, gender):\n",
    "        \"\"\"初始化first_name和last_name的属性\"\"\"\n",
    "        self.first_name = first_name\n",
    "        self.last_name = last_name\n",
    "        self.age = age\n",
    "        self.gender = gender\n",
    "        \n",
    "    \n",
    "    def describe_user(self):\n",
    "        \"\"\"打印用户的属性简单信息\"\"\"\n",
    "        print(self.first_name, self.last_name, self.age, self.gender)\n",
    "        \n",
    "            \n",
    "    def greet_user(self):\n",
    "        \"\"\"向客户追个问候\"\"\"\n",
    "        if self.gender == 'women':\n",
    "            print(\"Welcome to lady hub!\")\n",
    "        else:\n",
    "            print(\"Man Fight location\")"
   ]
  },
  {
   "cell_type": "code",
   "execution_count": 48,
   "metadata": {},
   "outputs": [
    {
     "name": "stdout",
     "output_type": "stream",
     "text": [
      "samuel wei 37 man\n"
     ]
    }
   ],
   "source": [
    "user = User('samuel', 'wei', 37, 'man')\n",
    "user.describe_user()"
   ]
  },
  {
   "cell_type": "code",
   "execution_count": 49,
   "metadata": {},
   "outputs": [
    {
     "name": "stdout",
     "output_type": "stream",
     "text": [
      "Man Fight location\n"
     ]
    }
   ],
   "source": [
    "user = User('samuel', 'wei', 37, 'man')\n",
    "user.greet_user()"
   ]
  },
  {
   "cell_type": "code",
   "execution_count": 50,
   "metadata": {},
   "outputs": [
    {
     "name": "stdout",
     "output_type": "stream",
     "text": [
      "Welcome to lady hub!\n"
     ]
    }
   ],
   "source": [
    "user = User('wanda', 'wang', 30, 'women')\n",
    "user.greet_user()"
   ]
  },
  {
   "cell_type": "markdown",
   "metadata": {},
   "source": [
    "## 9.2 使用类和实例"
   ]
  },
  {
   "cell_type": "markdown",
   "metadata": {},
   "source": [
    "### 9.2.1 Car 类"
   ]
  },
  {
   "cell_type": "code",
   "execution_count": 3,
   "metadata": {},
   "outputs": [],
   "source": [
    "class Car():\n",
    "    \"\"\"一次模拟汽车的简单尝试\"\"\"\n",
    "    \n",
    "    \n",
    "    def __init__(self, make, model, year):\n",
    "        \"\"\"初始化描述汽车的属性\"\"\"\n",
    "        self.make = make\n",
    "        self.model = model\n",
    "        self.year = year\n",
    "        \n",
    "        \n",
    "    def get_descriptive_name(self):\n",
    "        \"\"\"返回整洁的描述性文件\"\"\"\n",
    "        long_name = str(self.year) + ' ' + self.make + ' ' + self.model\n",
    "        return long_name.title()"
   ]
  },
  {
   "cell_type": "code",
   "execution_count": 4,
   "metadata": {},
   "outputs": [
    {
     "name": "stdout",
     "output_type": "stream",
     "text": [
      "2016 Audi A4\n"
     ]
    }
   ],
   "source": [
    "my_new_car = Car('audi', 'a4', 2016)\n",
    "print(my_new_car.get_descriptive_name())"
   ]
  },
  {
   "cell_type": "markdown",
   "metadata": {},
   "source": [
    "### 9.2.2 给属性指定默认值"
   ]
  },
  {
   "cell_type": "code",
   "execution_count": 8,
   "metadata": {},
   "outputs": [],
   "source": [
    "class Car():\n",
    "    \n",
    "    \n",
    "    def __init__(self, make, model, year):\n",
    "        \"\"\"初始化描述汽车的属性\"\"\"\n",
    "        self.make = make\n",
    "        self.model = model\n",
    "        self.year = year\n",
    "        self.odometer_reading = 0\n",
    "        \n",
    "        \n",
    "    def get_descriptive_name(self):\n",
    "        \"\"\"返回整洁的描述信息\"\"\"\n",
    "        long_name = str(self.year) + \" \" + self.make + ' ' + self.model\n",
    "        return long_name.title()\n",
    "    \n",
    "    \n",
    "    def read_odometer(self):\n",
    "        \"\"\"打印一条汽车里程的消息\"\"\"\n",
    "        print(\"This car has \" + str(self.odometer_reading) + \" miles on it.\")"
   ]
  },
  {
   "cell_type": "code",
   "execution_count": 9,
   "metadata": {},
   "outputs": [
    {
     "name": "stdout",
     "output_type": "stream",
     "text": [
      "2016 Audi A4\n",
      "This car has 0 miles on it.\n"
     ]
    }
   ],
   "source": [
    "my_new_car = Car('audi', 'a4', 2016)\n",
    "print(my_new_car.get_descriptive_name())\n",
    "my_new_car.read_odometer()"
   ]
  },
  {
   "cell_type": "markdown",
   "metadata": {},
   "source": [
    "### 9.2.3 修改属性的值"
   ]
  },
  {
   "cell_type": "code",
   "execution_count": 41,
   "metadata": {},
   "outputs": [],
   "source": [
    "class Car():\n",
    "    \n",
    "    \n",
    "    def __init__(self, make, model, year):\n",
    "        \"\"\"初始化描述汽车的属性\"\"\"\n",
    "        self.make = make\n",
    "        self.model = model\n",
    "        self.year = year\n",
    "        self.odometer_reading = 0\n",
    "        \n",
    "        \n",
    "    def get_descriptive_name(self):\n",
    "        \"\"\"返回整洁的描述信息\"\"\"\n",
    "        long_name = str(self.year) + \" \" + self.make + ' ' + self.model\n",
    "        return long_name.title()\n",
    "    \n",
    "    \n",
    "    def read_odometer(self):\n",
    "        \"\"\"打印一条汽车里程的消息\"\"\"\n",
    "        print(\"This car has \" + str(self.odometer_reading) + \" miles on it.\")"
   ]
  },
  {
   "cell_type": "code",
   "execution_count": 42,
   "metadata": {},
   "outputs": [
    {
     "name": "stdout",
     "output_type": "stream",
     "text": [
      "2016 Audi A4\n",
      "This car has 23 miles on it.\n"
     ]
    }
   ],
   "source": [
    "# 1.直接修改属性的值\n",
    "my_new_car = Car('audi', 'a4', 2016)\n",
    "print(my_new_car.get_descriptive_name())\n",
    "\n",
    "my_new_car.odometer_reading = 23\n",
    "my_new_car.read_odometer()"
   ]
  },
  {
   "cell_type": "code",
   "execution_count": 13,
   "metadata": {},
   "outputs": [],
   "source": [
    "class Car():\n",
    "    \n",
    "    \n",
    "    def __init__(self, make, model, year):\n",
    "        \"\"\"初始化描述汽车的属性\"\"\"\n",
    "        self.make = make\n",
    "        self.model = model\n",
    "        self.year = year\n",
    "        self.odometer_reading = 0\n",
    "        \n",
    "        \n",
    "    def get_descriptive_name(self):\n",
    "        \"\"\"返回整洁的描述信息\"\"\"\n",
    "        long_name = str(self.year) + \" \" + self.make + ' ' + self.model\n",
    "        return long_name.title()\n",
    "    \n",
    "    \n",
    "    def read_odometer(self):\n",
    "        \"\"\"打印一条汽车里程的消息\"\"\"\n",
    "        print(\"This car has \" + str(self.odometer_reading) + \" miles on it.\")\n",
    "        \n",
    "    \n",
    "    # 2.通过方法修改属性的值\n",
    "    def update_odometer(self, mileage):\n",
    "        \"\"\"将里程表读书设置为指定的值\"\"\"\n",
    "        self.odometer_reading = mileage\n",
    "        "
   ]
  },
  {
   "cell_type": "code",
   "execution_count": 15,
   "metadata": {},
   "outputs": [
    {
     "name": "stdout",
     "output_type": "stream",
     "text": [
      "2016 Audi A4\n",
      "This car has 23 miles on it.\n"
     ]
    }
   ],
   "source": [
    "my_new_car = Car('audi', 'a4', 2016)\n",
    "print(my_new_car.get_descriptive_name())\n",
    "\n",
    "my_new_car.update_odometer(23)\n",
    "my_new_car.read_odometer()"
   ]
  },
  {
   "cell_type": "code",
   "execution_count": 19,
   "metadata": {},
   "outputs": [],
   "source": [
    "class Car():\n",
    "    \n",
    "    \n",
    "    def __init__(self, make, model, year):\n",
    "        \"\"\"初始化描述汽车的属性\"\"\"\n",
    "        self.make = make\n",
    "        self.model = model\n",
    "        self.year = year\n",
    "        self.odometer_reading = 23\n",
    "        \n",
    "        \n",
    "    def get_descriptive_name(self):\n",
    "        \"\"\"返回整洁的描述信息\"\"\"\n",
    "        long_name = str(self.year) + \" \" + self.make + ' ' + self.model\n",
    "        return long_name.title()\n",
    "    \n",
    "    \n",
    "    def read_odometer(self):\n",
    "        \"\"\"打印一条汽车里程的消息\"\"\"\n",
    "        print(\"This car has \" + str(self.odometer_reading) + \" miles on it.\")\n",
    "        \n",
    "    # 2.通过方法修改属性的值--条件限制\n",
    "    def update_odometer(self, mileage):\n",
    "        \"\"\"\n",
    "        将里程表读数设置为指定的值\n",
    "        禁止将里程表读数往回调\n",
    "        \"\"\"\n",
    "        if mileage >= self.odometer_reading:\n",
    "            self.odometer_reading = mileage\n",
    "        else:\n",
    "            print(\"You can't roll back an odometer!\")"
   ]
  },
  {
   "cell_type": "code",
   "execution_count": 20,
   "metadata": {},
   "outputs": [
    {
     "name": "stdout",
     "output_type": "stream",
     "text": [
      "2016 Audi A4\n",
      "This car has 23 miles on it.\n"
     ]
    }
   ],
   "source": [
    "my_new_car = Car('audi', 'a4', 2016)\n",
    "print(my_new_car.get_descriptive_name())\n",
    "\n",
    "my_new_car.update_odometer(23)\n",
    "my_new_car.read_odometer()"
   ]
  },
  {
   "cell_type": "code",
   "execution_count": 22,
   "metadata": {},
   "outputs": [
    {
     "name": "stdout",
     "output_type": "stream",
     "text": [
      "2016 Audi A4\n",
      "This car has 28 miles on it.\n"
     ]
    }
   ],
   "source": [
    "my_new_car = Car('audi', 'a4', 2016)\n",
    "print(my_new_car.get_descriptive_name())\n",
    "\n",
    "my_new_car.update_odometer(28)\n",
    "my_new_car.read_odometer()"
   ]
  },
  {
   "cell_type": "code",
   "execution_count": 23,
   "metadata": {},
   "outputs": [],
   "source": [
    "class Car():\n",
    "    \n",
    "    \n",
    "    def __init__(self, make, model, year):\n",
    "        \"\"\"初始化描述汽车的属性\"\"\"\n",
    "        self.make = make\n",
    "        self.model = model\n",
    "        self.year = year\n",
    "        self.odometer_reading = 23\n",
    "        \n",
    "        \n",
    "    def get_descriptive_name(self):\n",
    "        \"\"\"返回整洁的描述信息\"\"\"\n",
    "        long_name = str(self.year) + \" \" + self.make + ' ' + self.model\n",
    "        return long_name.title()\n",
    "    \n",
    "    \n",
    "    def read_odometer(self):\n",
    "        \"\"\"打印一条汽车里程的消息\"\"\"\n",
    "        print(\"This car has \" + str(self.odometer_reading) + \" miles on it.\")\n",
    "        \n",
    "    # 通过方法修改属性的值\n",
    "    def update_odometer(self, mileage):\n",
    "        \"\"\"\n",
    "        将里程表读数设置为指定的值\n",
    "        禁止将里程表读数往回调\n",
    "        \"\"\"\n",
    "        if mileage >= self.odometer_reading:\n",
    "            self.odometer_reading = mileage\n",
    "        else:\n",
    "            print(\"You can't roll back an odometer!\")\n",
    "            \n",
    "    \n",
    "    # 3.通过方法对属性的值进行递增\n",
    "    def increment_odometer(self, miles):\n",
    "        \"\"\"将里程表读数增加指定的量\"\"\"\n",
    "        self.odometer_reading += miles\n",
    "        "
   ]
  },
  {
   "cell_type": "code",
   "execution_count": 26,
   "metadata": {},
   "outputs": [
    {
     "name": "stdout",
     "output_type": "stream",
     "text": [
      "2016 Audi A4\n",
      "This car has 23500 miles on it.\n",
      "This car has 23600 miles on it.\n"
     ]
    }
   ],
   "source": [
    "my_new_car = Car('audi', 'a4', 2016)\n",
    "print(my_new_car.get_descriptive_name())\n",
    "\n",
    "my_new_car.update_odometer(23500)\n",
    "my_new_car.read_odometer()\n",
    "\n",
    "my_new_car.increment_odometer(100)\n",
    "my_new_car.read_odometer()"
   ]
  },
  {
   "cell_type": "markdown",
   "metadata": {},
   "source": [
    "### 动手试一试"
   ]
  },
  {
   "cell_type": "code",
   "execution_count": 56,
   "metadata": {},
   "outputs": [],
   "source": [
    "class Restaurant():\n",
    "    \"\"\"餐馆的名称和菜单\"\"\"\n",
    "    \n",
    "    def __init__(self, restaurant_name, cuisin_type):\n",
    "        \"\"\"初始化name和type属性\"\"\"\n",
    "        self.restaurant_name = restaurant_name\n",
    "        self.cuisin_type = cuisin_type\n",
    "        self.number_served = 1000\n",
    "        \n",
    "        \n",
    "    def describe_restaurant(self):\n",
    "        \"\"\"模拟打印两个信息\"\"\"\n",
    "        print(\"\\nThe restaurant's name is \" + self.restaurant_name.title())\n",
    "        print(\"The menu have \" + self.cuisin_type)\n",
    "        \n",
    "        \n",
    "    def open_restaurant(self):\n",
    "        \"\"\"打印餐馆正在营业\"\"\"\n",
    "        print(\"\\nThe \" + self.restaurant_name.title() + \" is openning.\")\n",
    "    "
   ]
  },
  {
   "cell_type": "code",
   "execution_count": 57,
   "metadata": {},
   "outputs": [
    {
     "name": "stdout",
     "output_type": "stream",
     "text": [
      "1000 peoples have dine at KFC\n"
     ]
    }
   ],
   "source": [
    "restaurant = Restaurant('KFC', 'Fries')\n",
    "print(str(restaurant.number_served) + \" peoples have dine at \" + restaurant.restaurant_name )"
   ]
  },
  {
   "cell_type": "code",
   "execution_count": 69,
   "metadata": {},
   "outputs": [],
   "source": [
    "class Restaurant():\n",
    "    \"\"\"餐馆的名称和菜单\"\"\"\n",
    "    \n",
    "    def __init__(self, restaurant_name, cuisin_type):\n",
    "        \"\"\"初始化name和type属性\"\"\"\n",
    "        self.restaurant_name = restaurant_name\n",
    "        self.cuisin_type = cuisin_type\n",
    "        self.number_served = 0\n",
    "        \n",
    "        \n",
    "    def describe_restaurant(self):\n",
    "        \"\"\"模拟打印两个信息\"\"\"\n",
    "        print(\"\\nThe restaurant's name is \" + self.restaurant_name.title())\n",
    "        print(\"The menu have \" + self.cuisin_type)\n",
    "        \n",
    "        \n",
    "    def open_restaurant(self):\n",
    "        \"\"\"打印餐馆正在营业\"\"\"\n",
    "        print(\"\\nThe \" + self.restaurant_name.title() + \" is openning.\")\n",
    "    \n",
    "    \n",
    "    def set_number_served(self, peoples):\n",
    "        \"\"\"将服务过的人数设置为指定的值\"\"\"\n",
    "        self.number_served = peoples\n",
    "        "
   ]
  },
  {
   "cell_type": "code",
   "execution_count": 74,
   "metadata": {},
   "outputs": [
    {
     "name": "stdout",
     "output_type": "stream",
     "text": [
      "30\n",
      "30\n"
     ]
    }
   ],
   "source": [
    "restaurant = Restaurant('KFC', 'Fries')\n",
    "restaurant.set_number_served(30)\n",
    "print(str(restaurant.number_served))\n",
    "print(restaurant.number_served)"
   ]
  },
  {
   "cell_type": "code",
   "execution_count": 82,
   "metadata": {},
   "outputs": [],
   "source": [
    "class Restaurant():\n",
    "    \"\"\"餐馆的名称和菜单\"\"\"\n",
    "    \n",
    "    def __init__(self, restaurant_name, cuisin_type):\n",
    "        \"\"\"初始化name和type属性\"\"\"\n",
    "        self.restaurant_name = restaurant_name\n",
    "        self.cuisin_type = cuisin_type\n",
    "        self.number_served = 0\n",
    "        \n",
    "        \n",
    "    def describe_restaurant(self):\n",
    "        \"\"\"模拟打印两个信息\"\"\"\n",
    "        print(\"\\nThe restaurant's name is \" + self.restaurant_name.title())\n",
    "        print(\"The menu have \" + self.cuisin_type)\n",
    "        \n",
    "        \n",
    "    def open_restaurant(self):\n",
    "        \"\"\"打印餐馆正在营业\"\"\"\n",
    "        print(\"\\nThe \" + self.restaurant_name.title() + \" is openning.\")\n",
    "    \n",
    "    \n",
    "    def set_number_served(self, peoples):\n",
    "        \"\"\"将服务过的人数设置为指定的值\"\"\"\n",
    "        self.number_served = peoples\n",
    "    \n",
    "    \n",
    "    def increment_number_served(self, dines):\n",
    "        \"\"\"设置递增的人数就餐\"\"\"\n",
    "        self.number_served += dines\n",
    "        "
   ]
  },
  {
   "cell_type": "code",
   "execution_count": null,
   "metadata": {},
   "outputs": [],
   "source": [
    "restaurant = Restaurant('KFC', 'Fries')\n",
    "restaurant.set_number_served(20)\n",
    "print(str(restaurant.number_served) + \n",
    "      \"peoples has dine at \" + restaurant.restaurant_name)"
   ]
  },
  {
   "cell_type": "code",
   "execution_count": null,
   "metadata": {},
   "outputs": [],
   "source": []
  }
 ],
 "metadata": {
  "kernelspec": {
   "display_name": "Python 3",
   "language": "python",
   "name": "python3"
  },
  "language_info": {
   "codemirror_mode": {
    "name": "ipython",
    "version": 3
   },
   "file_extension": ".py",
   "mimetype": "text/x-python",
   "name": "python",
   "nbconvert_exporter": "python",
   "pygments_lexer": "ipython3",
   "version": "3.6.9"
  }
 },
 "nbformat": 4,
 "nbformat_minor": 4
}
