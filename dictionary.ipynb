{
 "cells": [
  {
   "cell_type": "markdown",
   "metadata": {},
   "source": [
    "## 6.1 一个简单的字典"
   ]
  },
  {
   "cell_type": "code",
   "execution_count": 1,
   "metadata": {},
   "outputs": [
    {
     "name": "stdout",
     "output_type": "stream",
     "text": [
      "green\n",
      "5\n"
     ]
    }
   ],
   "source": [
    "alien_0 = {'color':'green', 'points':5}\n",
    "print(alien_0['color'])\n",
    "print(alien_0['points'])"
   ]
  },
  {
   "cell_type": "markdown",
   "metadata": {},
   "source": [
    "## 6.2 使用字典"
   ]
  },
  {
   "cell_type": "markdown",
   "metadata": {},
   "source": [
    "### 6.2.1 访问字典中的值"
   ]
  },
  {
   "cell_type": "code",
   "execution_count": 4,
   "metadata": {},
   "outputs": [
    {
     "name": "stdout",
     "output_type": "stream",
     "text": [
      "You just earned 5 pionts!\n"
     ]
    }
   ],
   "source": [
    "alien_0 = {'color':'green', 'points':5}\n",
    "\n",
    "new_points = alien_0['points']\n",
    "print(\"You just earned \" + str(new_points) + \" pionts!\")"
   ]
  },
  {
   "cell_type": "markdown",
   "metadata": {},
   "source": [
    "### 6.2.2 添加键——值对"
   ]
  },
  {
   "cell_type": "code",
   "execution_count": 5,
   "metadata": {},
   "outputs": [
    {
     "name": "stdout",
     "output_type": "stream",
     "text": [
      "{'color': 'green', 'points': 5}\n",
      "{'color': 'green', 'points': 5, 'x_position': 0, 'y_position': 25}\n"
     ]
    }
   ],
   "source": [
    "alien_0 = {'color':'green', 'points':5}\n",
    "print(alien_0)\n",
    "\n",
    "alien_0['x_position'] = 0\n",
    "alien_0['y_position'] = 25\n",
    "print(alien_0)"
   ]
  },
  {
   "cell_type": "markdown",
   "metadata": {},
   "source": [
    "### 6.2.3 先创建一个空字典"
   ]
  },
  {
   "cell_type": "code",
   "execution_count": 6,
   "metadata": {},
   "outputs": [
    {
     "name": "stdout",
     "output_type": "stream",
     "text": [
      "{'color': 'green', 'points': 5}\n"
     ]
    }
   ],
   "source": [
    "alien_0 = {}\n",
    "\n",
    "alien_0['color'] = 'green'\n",
    "alien_0['points'] = 5\n",
    "\n",
    "print(alien_0)"
   ]
  },
  {
   "cell_type": "markdown",
   "metadata": {},
   "source": [
    "### 6.2.4 修改字典中的值"
   ]
  },
  {
   "cell_type": "code",
   "execution_count": 7,
   "metadata": {},
   "outputs": [
    {
     "name": "stdout",
     "output_type": "stream",
     "text": [
      "The alien isgreen.\n",
      "The alien is now yellow.\n"
     ]
    }
   ],
   "source": [
    "alien_0 = {'color': 'green'}\n",
    "print(\"The alien is\" + alien_0['color'] + \".\")\n",
    "\n",
    "alien_0['color'] = 'yellow'\n",
    "print(\"The alien is now \" + alien_0['color'] + \".\")"
   ]
  },
  {
   "cell_type": "code",
   "execution_count": 10,
   "metadata": {},
   "outputs": [
    {
     "name": "stdout",
     "output_type": "stream",
     "text": [
      "Original x-position: 0\n",
      "New x-position: 2\n"
     ]
    }
   ],
   "source": [
    "alien_0 = {'x_position':0, 'y_position':25, 'speed': 'medium'}\n",
    "print(\"Original x-position: \" + str(alien_0['x_position']))\n",
    "\n",
    "if alien_0['speed'] == 'slow':\n",
    "    x_increment = 1\n",
    "elif alien_0['speed'] == 'medium':\n",
    "    x_increment = 2\n",
    "else:\n",
    "    x_increment = 3\n",
    "alien_0['x_position'] = alien_0['x_position'] + x_increment\n",
    "\n",
    "print(\"New x-position: \" + str(alien_0['x_position']))"
   ]
  },
  {
   "cell_type": "markdown",
   "metadata": {},
   "source": [
    "### 6.2.5 删除键——值对"
   ]
  },
  {
   "cell_type": "code",
   "execution_count": 11,
   "metadata": {},
   "outputs": [
    {
     "name": "stdout",
     "output_type": "stream",
     "text": [
      "{'color': 'green', 'points': 5}\n",
      "{'color': 'green'}\n"
     ]
    }
   ],
   "source": [
    "alien_0 = {'color': 'green', 'points':5}\n",
    "print(alien_0)\n",
    "\n",
    "del alien_0['points']\n",
    "print(alien_0)"
   ]
  },
  {
   "cell_type": "markdown",
   "metadata": {},
   "source": [
    "### 6.2.6  由类似对象组成的字典"
   ]
  },
  {
   "cell_type": "code",
   "execution_count": 12,
   "metadata": {},
   "outputs": [
    {
     "name": "stdout",
     "output_type": "stream",
     "text": [
      "{'jen': 'python', 'sarah': 'c', 'edward': 'ruby', 'phil': 'python'}\n"
     ]
    }
   ],
   "source": [
    "favorite_languages = {\n",
    "    'jen':'python',\n",
    "    'sarah':'c',\n",
    "    'edward':'ruby',\n",
    "    'phil':'python',\n",
    "    }\n",
    "print(favorite_languages)"
   ]
  },
  {
   "cell_type": "code",
   "execution_count": 14,
   "metadata": {},
   "outputs": [
    {
     "name": "stdout",
     "output_type": "stream",
     "text": [
      "Sarah's favorit_language is C.\n"
     ]
    }
   ],
   "source": [
    "print(\"Sarah's favorit_language is \" + \n",
    "      favorite_languages['sarah'].title()+ \n",
    "      '.')"
   ]
  },
  {
   "cell_type": "markdown",
   "metadata": {},
   "source": [
    "### 动手试一试"
   ]
  },
  {
   "cell_type": "code",
   "execution_count": 16,
   "metadata": {},
   "outputs": [
    {
     "name": "stdout",
     "output_type": "stream",
     "text": [
      "{'first_name': 'wang', 'last_name': 'wanda', 'age': 30, 'city': 'guangzhou'}\n"
     ]
    }
   ],
   "source": [
    "wanda = {'first_name':'wang', 'last_name':'wanda', 'age':30, 'city':'guangzhou'}\n",
    "print(wanda)"
   ]
  },
  {
   "cell_type": "code",
   "execution_count": 19,
   "metadata": {},
   "outputs": [
    {
     "name": "stdout",
     "output_type": "stream",
     "text": [
      "{'wei': 8, 'samuel': 9, 'wanda': 4, 'beta': 6, 'alisa': 7}\n"
     ]
    }
   ],
   "source": [
    "favorite_numbers = {\n",
    "    'wei':8,\n",
    "    'samuel':9,\n",
    "    'wanda':4,\n",
    "    'beta':6,\n",
    "    'alisa':7,\n",
    "    }\n",
    "print(favorite_numbers)"
   ]
  },
  {
   "cell_type": "code",
   "execution_count": 20,
   "metadata": {},
   "outputs": [
    {
     "name": "stdout",
     "output_type": "stream",
     "text": [
      "{'variable': 'define some thing what you want', 'string': 'some word you like', 'digits': 'numbers', 'list': 'some word are arranged together', 'if': 'a condition that is limited by a condition', 'for_in': 'Iterate through the list'}\n"
     ]
    }
   ],
   "source": [
    "vocabularys = {}\n",
    "\n",
    "vocabularys['variable'] = 'define some thing what you want'\n",
    "vocabularys['string'] = 'some word you like'\n",
    "vocabularys['digits'] = 'numbers'\n",
    "vocabularys['list'] = 'some word are arranged together'\n",
    "vocabularys['if'] = 'a condition that is limited by a condition'\n",
    "vocabularys['for_in'] = \"Iterate through the list\"\n",
    "\n",
    "print(vocabularys)"
   ]
  },
  {
   "cell_type": "code",
   "execution_count": 30,
   "metadata": {},
   "outputs": [
    {
     "name": "stdout",
     "output_type": "stream",
     "text": [
      "variable:\n",
      "define some thing what you want\n",
      "\n",
      "string:\n",
      "some word you like\n",
      "\n",
      "digits:\n",
      "numbers\n",
      "\n",
      "list:\n",
      "some word are arranged together\n",
      "\n",
      "if:\n",
      "a condition that is limited by a condition\n",
      "\n",
      "for_in:\n",
      "Iterate through the list\n",
      "\n"
     ]
    }
   ],
   "source": [
    "for vocabulary in vocabularys:\n",
    "    print(vocabulary + \":\"+ \"\\n\"  + vocabularys[str(vocabulary)] + \"\\n\" )"
   ]
  },
  {
   "cell_type": "markdown",
   "metadata": {},
   "source": [
    "## 6.3 遍历字典"
   ]
  },
  {
   "cell_type": "markdown",
   "metadata": {},
   "source": [
    "### 6.3.1 遍历所有的键——值对"
   ]
  },
  {
   "cell_type": "code",
   "execution_count": 35,
   "metadata": {},
   "outputs": [
    {
     "name": "stdout",
     "output_type": "stream",
     "text": [
      "\n",
      "Key: username\n",
      "Value: efermi\n",
      "\n",
      "Key: first\n",
      "Value: enrico\n",
      "\n",
      "Key: last\n",
      "Value: fermi\n"
     ]
    }
   ],
   "source": [
    "user_0 = {\n",
    "    'username': 'efermi',\n",
    "    'first':'enrico',\n",
    "    'last':'fermi',\n",
    "    }\n",
    "for key, value in user_0.items():\n",
    "    print(\"\\nKey: \" + key)\n",
    "    print(\"Value: \" + value)\n",
    "    "
   ]
  },
  {
   "cell_type": "code",
   "execution_count": 36,
   "metadata": {},
   "outputs": [
    {
     "name": "stdout",
     "output_type": "stream",
     "text": [
      "Jen's favorite language is Python.\n",
      "Sarah's favorite language is C.\n",
      "Edward's favorite language is Ruby.\n",
      "Phil's favorite language is Python.\n"
     ]
    }
   ],
   "source": [
    "favorite_languages = {\n",
    "    'jen':'python',\n",
    "    'sarah':'c',\n",
    "    'edward':'ruby',\n",
    "    'phil':'python',\n",
    "    }\n",
    "\n",
    "for name, language in favorite_languages.items():\n",
    "    print(name.title() + \"'s favorite language is \" +\n",
    "          language.title() + \".\")"
   ]
  },
  {
   "cell_type": "markdown",
   "metadata": {},
   "source": [
    "### 6.3.2 遍历字典中的所有键"
   ]
  },
  {
   "cell_type": "code",
   "execution_count": 37,
   "metadata": {},
   "outputs": [
    {
     "name": "stdout",
     "output_type": "stream",
     "text": [
      "Jen\n",
      "Sarah\n",
      "Edward\n",
      "Phil\n"
     ]
    }
   ],
   "source": [
    "favorite_languages = {\n",
    "    'jen':'python',\n",
    "    'sarah':'c',\n",
    "    'edward':'ruby',\n",
    "    'phil':'python',\n",
    "    }\n",
    "\n",
    "for name in favorite_languages.keys():\n",
    "    print(name.title())"
   ]
  },
  {
   "cell_type": "code",
   "execution_count": 38,
   "metadata": {},
   "outputs": [
    {
     "name": "stdout",
     "output_type": "stream",
     "text": [
      "Jen\n",
      "Sarah\n",
      "Edward\n",
      "Phil\n"
     ]
    }
   ],
   "source": [
    "for name in favorite_languages:\n",
    "    print(name.title())"
   ]
  },
  {
   "cell_type": "code",
   "execution_count": 41,
   "metadata": {},
   "outputs": [
    {
     "name": "stdout",
     "output_type": "stream",
     "text": [
      "Python\n",
      "C\n",
      "Ruby\n",
      "Python\n"
     ]
    }
   ],
   "source": [
    "for language in favorite_languages.values():\n",
    "    print(language.title())"
   ]
  },
  {
   "cell_type": "code",
   "execution_count": 46,
   "metadata": {},
   "outputs": [
    {
     "name": "stdout",
     "output_type": "stream",
     "text": [
      "Jen\n",
      "Sarah\n",
      " Hi Sarah, I see your favorite language is C!\n",
      "Edward\n",
      "Phil\n",
      " Hi Phil, I see your favorite language is Python!\n"
     ]
    }
   ],
   "source": [
    "favorite_languages = {\n",
    "    'jen':'python',\n",
    "    'sarah':'c',\n",
    "    'edward':'ruby',\n",
    "    'phil':'python',\n",
    "    }\n",
    "\n",
    "friends = ['phil', 'sarah']\n",
    "for name in favorite_languages.keys():\n",
    "    print(name.title())\n",
    "    \n",
    "    if name in friends:\n",
    "        print(\" Hi \" + name.title() +\n",
    "              \", I see your favorite language is \" +\n",
    "              favorite_languages[name].title() + '!')"
   ]
  },
  {
   "cell_type": "code",
   "execution_count": 47,
   "metadata": {},
   "outputs": [
    {
     "name": "stdout",
     "output_type": "stream",
     "text": [
      "Samuel, please take our poll!\n"
     ]
    }
   ],
   "source": [
    "if 'samuel' not in favorite_languages.keys():\n",
    "    print(\"Samuel, please take our poll!\")"
   ]
  },
  {
   "cell_type": "markdown",
   "metadata": {},
   "source": [
    "### 6.3.3 按顺序遍历字典中的所有键"
   ]
  },
  {
   "cell_type": "code",
   "execution_count": 48,
   "metadata": {},
   "outputs": [
    {
     "name": "stdout",
     "output_type": "stream",
     "text": [
      "Edward, thank you for taking the poll.\n",
      "Jen, thank you for taking the poll.\n",
      "Phil, thank you for taking the poll.\n",
      "Sarah, thank you for taking the poll.\n"
     ]
    }
   ],
   "source": [
    "favorite_languages = {\n",
    "    'jen':'python',\n",
    "    'sarah':'c',\n",
    "    'edward':'ruby',\n",
    "    'phil':'python',\n",
    "    }\n",
    "\n",
    "for name in sorted(favorite_languages.keys()):\n",
    "    print(name.title() + \", thank you for taking the poll.\")"
   ]
  },
  {
   "cell_type": "markdown",
   "metadata": {},
   "source": [
    "### 6.3.4 遍历字典中的所有值"
   ]
  },
  {
   "cell_type": "code",
   "execution_count": 49,
   "metadata": {},
   "outputs": [
    {
     "name": "stdout",
     "output_type": "stream",
     "text": [
      "The following languages have been mentioned:\n",
      "Python\n",
      "C\n",
      "Ruby\n",
      "Python\n"
     ]
    }
   ],
   "source": [
    "favorite_languages = {\n",
    "    'jen':'python',\n",
    "    'sarah':'c',\n",
    "    'edward':'ruby',\n",
    "    'phil':'python',\n",
    "    }\n",
    "\n",
    "print(\"The following languages have been mentioned:\")\n",
    "for language in favorite_languages.values():\n",
    "    print(language.title())"
   ]
  },
  {
   "cell_type": "code",
   "execution_count": 52,
   "metadata": {},
   "outputs": [
    {
     "name": "stdout",
     "output_type": "stream",
     "text": [
      "Ruby\n",
      "Python\n",
      "C\n"
     ]
    }
   ],
   "source": [
    "favorite_languages = {\n",
    "    'jen':'python',\n",
    "    'sarah':'c',\n",
    "    'edward':'ruby',\n",
    "    'phil':'python',\n",
    "    }\n",
    "\n",
    "for language in set(favorite_languages.values()):\n",
    "    print(language.title())"
   ]
  },
  {
   "cell_type": "markdown",
   "metadata": {},
   "source": [
    "### 动手试一试"
   ]
  },
  {
   "cell_type": "code",
   "execution_count": 55,
   "metadata": {},
   "outputs": [
    {
     "name": "stdout",
     "output_type": "stream",
     "text": [
      "jen python\n",
      "sarah c\n",
      "edward ruby\n",
      "phil python\n"
     ]
    }
   ],
   "source": [
    "favorite_languages = {\n",
    "    'jen':'python',\n",
    "    'sarah':'c',\n",
    "    'edward':'ruby',\n",
    "    'phil':'python',\n",
    "    }\n",
    "\n",
    "for name, language in favorite_languages.items():\n",
    "    print(name, language)"
   ]
  },
  {
   "cell_type": "code",
   "execution_count": 57,
   "metadata": {},
   "outputs": [
    {
     "name": "stdout",
     "output_type": "stream",
     "text": [
      "{'jen': 'python', 'sarah': 'c', 'edward': 'ruby', 'phil': 'python', 'python': 'list', 'variabl': 'string', 'string': 'word', 'digit': 'numbers'}\n"
     ]
    }
   ],
   "source": [
    "favorite_languages['variabl'] = 'string'\n",
    "favorite_languages['string'] = 'word'\n",
    "favorite_languages['digit'] = 'numbers'\n",
    "favorite_languages['python'] = 'list'\n",
    "\n",
    "print(favorite_languages)"
   ]
  },
  {
   "cell_type": "code",
   "execution_count": 61,
   "metadata": {},
   "outputs": [
    {
     "name": "stdout",
     "output_type": "stream",
     "text": [
      "The Nileruns through Egypt.\n",
      "The Yellow Riverruns through China.\n",
      "The Yangtze Riverruns through China.\n"
     ]
    }
   ],
   "source": [
    "river_countries = {\n",
    "    'nile':'egypt',\n",
    "    'yellow river':'china',\n",
    "    'yangtze river':'china',\n",
    "    }\n",
    "\n",
    "for river, country in river_countries.items():\n",
    "    print(\"The \" + river.title() + \"runs through \" + country.title() + \".\")"
   ]
  },
  {
   "cell_type": "code",
   "execution_count": 62,
   "metadata": {},
   "outputs": [
    {
     "name": "stdout",
     "output_type": "stream",
     "text": [
      "nile\n",
      "yellow river\n",
      "yangtze river\n"
     ]
    }
   ],
   "source": [
    "for river in river_countries.keys():\n",
    "    print(river)"
   ]
  },
  {
   "cell_type": "code",
   "execution_count": 63,
   "metadata": {},
   "outputs": [
    {
     "name": "stdout",
     "output_type": "stream",
     "text": [
      "egypt\n",
      "china\n",
      "china\n"
     ]
    }
   ],
   "source": [
    "for country in river_countries.values():\n",
    "    print(country)"
   ]
  },
  {
   "cell_type": "code",
   "execution_count": 66,
   "metadata": {},
   "outputs": [
    {
     "name": "stdout",
     "output_type": "stream",
     "text": [
      "Jen, thank you for you was polled!\n",
      "Samuel, please take our poll!\n",
      "Phil, thank you for you was polled!\n"
     ]
    }
   ],
   "source": [
    "favorite_languages = {\n",
    "    'jen':'python',\n",
    "    'sarah':'c',\n",
    "    'edward':'ruby',\n",
    "    'phil':'python',\n",
    "    }\n",
    "\n",
    "names_polls = ['jen', 'samuel', 'phil']\n",
    "for name in names_polls:\n",
    "    if name in favorite_languages.keys():\n",
    "        print(name.title() +\", thank you for you was polled!\")\n",
    "    else:\n",
    "        print(name.title() + \", please take our poll!\")"
   ]
  },
  {
   "cell_type": "markdown",
   "metadata": {},
   "source": [
    "## 6.4 嵌套"
   ]
  },
  {
   "cell_type": "markdown",
   "metadata": {},
   "source": [
    "### 6.4.1 字典列表"
   ]
  },
  {
   "cell_type": "code",
   "execution_count": 67,
   "metadata": {},
   "outputs": [
    {
     "name": "stdout",
     "output_type": "stream",
     "text": [
      "{'color': 'green', 'points': 5}\n",
      "{'color': 'yellow', 'points': 10}\n",
      "{'color': 'red', 'points': 15}\n"
     ]
    }
   ],
   "source": [
    "alien_0 = {'color':'green', 'points':5}\n",
    "alien_1 = {'color':'yellow', 'points':10}\n",
    "alien_2 = {'color':'red', 'points':15}\n",
    "\n",
    "aliens = [alien_0, alien_1, alien_2]\n",
    "\n",
    "for alien in aliens:\n",
    "    print(alien)"
   ]
  },
  {
   "cell_type": "code",
   "execution_count": 74,
   "metadata": {},
   "outputs": [
    {
     "name": "stdout",
     "output_type": "stream",
     "text": [
      "{'color': 'green', 'points': 5, 'speed': 'slow'}\n",
      "{'color': 'green', 'points': 5, 'speed': 'slow'}\n",
      "{'color': 'green', 'points': 5, 'speed': 'slow'}\n",
      "{'color': 'green', 'points': 5, 'speed': 'slow'}\n",
      "{'color': 'green', 'points': 5, 'speed': 'slow'}\n",
      "Total number of aliens: 30\n"
     ]
    }
   ],
   "source": [
    "aliens = []\n",
    "\n",
    "for alien_number in range(30):\n",
    "    new_alien = {'color':'green', 'points':5, 'speed':'slow'}\n",
    "    aliens.append(new_alien)\n",
    "    \n",
    "for alien in aliens[:5]:\n",
    "    print(alien)\n",
    "print(\"Total number of aliens: \" + str(len(aliens)))"
   ]
  },
  {
   "cell_type": "code",
   "execution_count": 73,
   "metadata": {},
   "outputs": [
    {
     "name": "stdout",
     "output_type": "stream",
     "text": [
      "Total number of aliens: 30\n"
     ]
    }
   ],
   "source": [
    "print(\"Total number of aliens: \" + str(len(aliens)))"
   ]
  },
  {
   "cell_type": "code",
   "execution_count": 84,
   "metadata": {},
   "outputs": [
    {
     "name": "stdout",
     "output_type": "stream",
     "text": [
      "{'color': 'yellow', 'points': 10, 'speed': 'medium'}\n",
      "{'color': 'yellow', 'points': 10, 'speed': 'medium'}\n",
      "{'color': 'yellow', 'points': 10, 'speed': 'medium'}\n",
      "{'color': 'green', 'points': 5, 'speed': 'slow'}\n",
      "{'color': 'green', 'points': 5, 'speed': 'slow'}\n",
      "...\n"
     ]
    }
   ],
   "source": [
    "# 创建一个用于存储外星人的空列表\n",
    "aliens = []\n",
    "\n",
    "# 创建30个绿色的外星人\n",
    "for alien_number in range(30):\n",
    "    new_alien = {'color':'green', 'points':5, 'speed':'slow'}\n",
    "    aliens.append(new_alien)\n",
    "    \n",
    "# 修改前三个外星人的信息\n",
    "for alien in aliens[0:3]:\n",
    "    if alien['color'] == 'green':\n",
    "        alien['color'] = 'yellow'\n",
    "        alien['points'] = 10\n",
    "        alien['speed'] = 'medium'\n",
    "        \n",
    "# 显示前5个外星人\n",
    "for alien in aliens[:5]:\n",
    "    print(alien)\n",
    "print('...')"
   ]
  },
  {
   "cell_type": "code",
   "execution_count": 86,
   "metadata": {},
   "outputs": [
    {
     "name": "stdout",
     "output_type": "stream",
     "text": [
      "{'color': 'red', 'points': 15, 'speed': 'fast'}\n",
      "{'color': 'red', 'points': 15, 'speed': 'fast'}\n",
      "{'color': 'red', 'points': 15, 'speed': 'fast'}\n",
      "{'color': 'yellow', 'points': 10, 'speed': 'medium'}\n",
      "{'color': 'yellow', 'points': 10, 'speed': 'medium'}\n"
     ]
    }
   ],
   "source": [
    "\n",
    "# 遍历前三个alien的颜色\n",
    "for alien in aliens[:5]:\n",
    "    if alien['color'] == 'green':\n",
    "        alien['color'] = 'yellow'\n",
    "        alien['speed'] = 'medium'\n",
    "        alien['points'] = 10\n",
    "    elif alien['color'] == 'yellow':\n",
    "        alien['color'] = 'red'\n",
    "        alien['speed'] = 'fast'\n",
    "        alien['points'] = 15\n",
    "        \n",
    "    print(alien)\n",
    "    "
   ]
  },
  {
   "cell_type": "markdown",
   "metadata": {},
   "source": [
    "### 6.4.2 在字典中存储列表"
   ]
  },
  {
   "cell_type": "code",
   "execution_count": 88,
   "metadata": {},
   "outputs": [
    {
     "name": "stdout",
     "output_type": "stream",
     "text": [
      "You ordered a thick-crust pizza with the following toppings:\n",
      "\tmushrooms\n",
      "\textra cheese\n"
     ]
    }
   ],
   "source": [
    "# 存储所点比萨的信息\n",
    "pizza = {\n",
    "    'crust':'thick',\n",
    "    'toppings':['mushrooms', 'extra cheese'],\n",
    "    }\n",
    "\n",
    "# 概述所点的比萨\n",
    "print(\"You ordered a \" + pizza['crust'] + \"-crust pizza \" +\n",
    "      \"with the following toppings:\")\n",
    "\n",
    "for topping in pizza['toppings']:\n",
    "    print(\"\\t\" + topping)"
   ]
  },
  {
   "cell_type": "code",
   "execution_count": 90,
   "metadata": {},
   "outputs": [
    {
     "name": "stdout",
     "output_type": "stream",
     "text": [
      "\n",
      "Jen's favorite languages are:'\n",
      "\tPython\n",
      "\tRuby\n",
      "\n",
      "Sarah's favorite languages are:'\n",
      "\tC\n",
      "\n",
      "Edward's favorite languages are:'\n",
      "\tRuby\n",
      "\tGo\n",
      "\n",
      "Phil's favorite languages are:'\n",
      "\tPython\n",
      "\tHaskell\n"
     ]
    }
   ],
   "source": [
    "# 创建最喜欢的语言列表\n",
    "favorite_languages = {\n",
    "    'jen':['python','ruby'],\n",
    "    'sarah':['c'],\n",
    "    'edward':['ruby','go'],\n",
    "    'phil':['python', 'haskell'],\n",
    "    }\n",
    "\n",
    "# 检查名字和语言\n",
    "for name, languages in favorite_languages.items():   # 遍历字典里面的keys和values\n",
    "    print(\"\\n\" + name.title() + \"'s favorite languages are:'\")\n",
    "    for language in languages:         # 遍历字典里面的values的list\n",
    "        print(\"\\t\" + language.title())"
   ]
  },
  {
   "cell_type": "code",
   "execution_count": 105,
   "metadata": {},
   "outputs": [
    {
     "name": "stdout",
     "output_type": "stream",
     "text": [
      "\n",
      "Jen's favorite languages are:\n",
      "\tPython\n",
      "\tRuby\n",
      "Sarah's favorite language is: \n",
      "\tC\n",
      "\n",
      "Edward's favorite languages are:\n",
      "\tRuby\n",
      "\tGo\n",
      "\n",
      "Phil's favorite languages are:\n",
      "\tPython\n",
      "\tHaskell\n"
     ]
    }
   ],
   "source": [
    "# 创建最喜欢的语言列表\n",
    "favorite_languages = {\n",
    "    'jen':['python','ruby'],\n",
    "    'sarah':['c'],\n",
    "    'edward':['ruby','go'],\n",
    "    'phil':['python', 'haskell'],\n",
    "    }\n",
    "\n",
    "# 检查名字和语言\n",
    "for name, languages in favorite_languages.items():\n",
    "    if len(languages) == 2:\n",
    "        print(\"\\n\" + name.title() + \"'s favorite languages are:\")\n",
    "        for language in languages:         # 遍历字典里面的values的list\n",
    "            print(\"\\t\" + language.title())\n",
    "    else:\n",
    "        print(name.title() +\"'s favorite language is: \")\n",
    "        for language in languages:\n",
    "            print(\"\\t\" + language.title())"
   ]
  },
  {
   "cell_type": "markdown",
   "metadata": {},
   "source": [
    "### 6.4.3 在字典中存储字典"
   ]
  },
  {
   "cell_type": "code",
   "execution_count": 107,
   "metadata": {},
   "outputs": [
    {
     "name": "stdout",
     "output_type": "stream",
     "text": [
      "\n",
      "Usersname: aeinstein\n",
      "\tFull name: Albert Einstein\n",
      "\tLocation: Princeton\n",
      "\n",
      "Usersname: mcurie\n",
      "\tFull name: Marie Curie\n",
      "\tLocation: Paris\n"
     ]
    }
   ],
   "source": [
    "# 创建字典中存储用户信息的字典\n",
    "users = {\n",
    "    'aeinstein': {\n",
    "        'first':'albert',\n",
    "        'last':'einstein',\n",
    "        'location':'princeton',\n",
    "        },\n",
    "    \n",
    "    'mcurie':{\n",
    "        'first':'marie',\n",
    "        'last':'curie',\n",
    "        'location':'paris',\n",
    "        },\n",
    "    \n",
    "    }\n",
    "\n",
    "# 遍历所有的用户名和用户信息\n",
    "for username, user_info in users.items():\n",
    "    print(\"\\nUsersname: \" + username)\n",
    "    full_name = user_info['first'] + \" \" + user_info['last']  #读取嵌套字典内部的信息\n",
    "    location = user_info['location']\n",
    "    \n",
    "    print(\"\\tFull name: \" + full_name.title())\n",
    "    print(\"\\tLocation: \" + location.title())"
   ]
  },
  {
   "cell_type": "markdown",
   "metadata": {},
   "source": [
    "### 动手试一试"
   ]
  },
  {
   "cell_type": "code",
   "execution_count": 108,
   "metadata": {},
   "outputs": [
    {
     "name": "stdout",
     "output_type": "stream",
     "text": [
      "{'color': 'green', 'points': 5}\n",
      "{'color': 'yellow', 'points': 10}\n",
      "{'color': 'red', 'points': 15}\n"
     ]
    }
   ],
   "source": [
    "# 创建外星人的信息\n",
    "alien_0 = {'color':'green', 'points':5}\n",
    "alien_1 = {'color':'yellow', 'points':10}\n",
    "alien_2 = {'color':'red', 'points':15}\n",
    "\n",
    "# 以上外星人列表\n",
    "peoples = [alien_0, alien_1, alien_2]\n",
    "for people in peoples:\n",
    "    print(people)"
   ]
  },
  {
   "cell_type": "code",
   "execution_count": 111,
   "metadata": {},
   "outputs": [
    {
     "name": "stdout",
     "output_type": "stream",
     "text": [
      "{'dog': 'pet', 'master': 'samuel'}\n",
      "{'cat': 'pet', 'master': 'wanda'}\n",
      "{'fish': 'pet', 'master': 'elise'}\n"
     ]
    }
   ],
   "source": [
    "# 创建宠物字典\n",
    "dog = {'dog':'pet',\n",
    "       'master':'samuel',\n",
    "       }\n",
    "cat = {'cat':'pet',\n",
    "       'master':'wanda',\n",
    "       }\n",
    "fish = {'fish':'pet',\n",
    "        'master':'elise',\n",
    "        }\n",
    "\n",
    "# 创建宠物列表\n",
    "pets = [dog, cat, fish]\n",
    "for pet in pets:\n",
    "    print(pet) "
   ]
  },
  {
   "cell_type": "code",
   "execution_count": 116,
   "metadata": {},
   "outputs": [
    {
     "name": "stdout",
     "output_type": "stream",
     "text": [
      "Samuel favorite places are:\n",
      "\tBoston\n",
      "\tSilicon Valley\n",
      "\tShenzhen\n",
      "Wanda favorite places are:\n",
      "\tShenzhen\n",
      "\tBoston\n",
      "Elina favorite places are:\n",
      "\tNanning\n",
      "\tShenzhen\n"
     ]
    }
   ],
   "source": [
    "# 创建喜欢的地方字典\n",
    "favorite_places = {'samuel':['boston', 'silicon valley', 'shenzhen'],\n",
    "                   'wanda':['shenzhen', 'boston'],\n",
    "                   'elina':['nanning', 'shenzhen']}\n",
    "\n",
    "for name, places in favorite_places.items():\n",
    "    print(name.title() + \" favorite places are:\")\n",
    "    for place in places:\n",
    "        print(\"\\t\" + place.title())"
   ]
  },
  {
   "cell_type": "code",
   "execution_count": 128,
   "metadata": {},
   "outputs": [
    {
     "name": "stdout",
     "output_type": "stream",
     "text": [
      "Wei favorite number are:\n",
      "8\n",
      "Samuel favorite number are:\n",
      "0\n",
      "7\n",
      "Wanda favorite number are:\n",
      "7\n",
      "8\n",
      "Beta favorite number are:\n",
      "6\n",
      "Alisa favorite number are:\n",
      "7\n"
     ]
    }
   ],
   "source": [
    "# 创建喜欢\n",
    "favorite_numbers = {\n",
    "    'wei':'8',\n",
    "    'samuel':['0','7'],\n",
    "    'wanda':['7','8'],\n",
    "    'beta':'6',\n",
    "    'alisa':'7',\n",
    "    }\n",
    "for name, numbers in favorite_numbers.items():\n",
    "    print(name.title() + \" favorite number are:\")\n",
    "    for number in numbers:\n",
    "        print(number)\n"
   ]
  },
  {
   "cell_type": "code",
   "execution_count": 139,
   "metadata": {},
   "outputs": [
    {
     "name": "stdout",
     "output_type": "stream",
     "text": [
      "Shenzhen info:\n",
      "\tscience and technology\n",
      "\tchina\n",
      "\t13,000,000 peoples\n",
      "San Francisco info:\n",
      "\t3,000,000 peoples\n",
      "\tsilicon valley\n",
      "\tamerica\n",
      "Boston info:\n",
      "\tharvard university\n",
      "\t3,00,000 peoples\n",
      "\tamerica\n"
     ]
    }
   ],
   "source": [
    "# 创建城市作为字典，详情也为字典\n",
    "cities = {'shenzhen': {'china',\n",
    "                       '13,000,000 peoples',\n",
    "                       'science and technology',\n",
    "                      },\n",
    "          'san francisco':{'america',\n",
    "                           '3,000,000 peoples',\n",
    "                           'silicon valley', \n",
    "                           },\n",
    "          'boston':{'america',\n",
    "                    '3,00,000 peoples',\n",
    "                    'harvard university',\n",
    "                    },\n",
    "         }\n",
    "\n",
    "# 添加字典\n",
    "# cities.append() ={'shanghai':{'china',\n",
    "#                           '20,000,000 peoples',\n",
    "#                           'tall buildings'}}\n",
    "# print(citis)\n",
    "# 遍历第一层字典\n",
    "for city, infos in cities.items():\n",
    "    print(city.title() + \" info:\")\n",
    "    # 遍历第二层字典\n",
    "    for info in infos:\n",
    "        print(\"\\t\" + info)"
   ]
  },
  {
   "cell_type": "code",
   "execution_count": null,
   "metadata": {},
   "outputs": [],
   "source": []
  }
 ],
 "metadata": {
  "kernelspec": {
   "display_name": "Python 3",
   "language": "python",
   "name": "python3"
  },
  "language_info": {
   "codemirror_mode": {
    "name": "ipython",
    "version": 3
   },
   "file_extension": ".py",
   "mimetype": "text/x-python",
   "name": "python",
   "nbconvert_exporter": "python",
   "pygments_lexer": "ipython3",
   "version": "3.6.9"
  }
 },
 "nbformat": 4,
 "nbformat_minor": 4
}
