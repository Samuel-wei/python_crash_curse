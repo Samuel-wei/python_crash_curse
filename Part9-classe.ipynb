{
 "cells": [
  {
   "cell_type": "markdown",
   "metadata": {},
   "source": [
    "# 第9章 类"
   ]
  },
  {
   "cell_type": "code",
   "execution_count": 1,
   "metadata": {},
   "outputs": [],
   "source": [
    "class Dog():\n",
    "    \"\"\"一次模拟小狗的简单尝试\"\"\"\n",
    "    \n",
    "    def __init__(self, name, age):\n",
    "        \"\"\"初始化属性name和age\"\"\"\n",
    "        self.name = name\n",
    "        self.age = age\n",
    "        \n",
    "        \n",
    "    def sit(self):\n",
    "        \"\"\"模拟小狗被命令时蹲下\"\"\"\n",
    "        print(self.name.title() + \" is now sitting.\")\n",
    "        \n",
    "    \n",
    "    def roll_over(self):\n",
    "        \"\"\"模拟小狗被命令时滚地\"\"\"\n",
    "        print(self.name.title() + \" rolled over!\")"
   ]
  },
  {
   "cell_type": "markdown",
   "metadata": {},
   "source": [
    "### 9.1.2 根据类创建实例"
   ]
  },
  {
   "cell_type": "code",
   "execution_count": 2,
   "metadata": {},
   "outputs": [
    {
     "output_type": "stream",
     "name": "stdout",
     "text": [
      "My dog'name is Willie.\nMy dog is 6 years old.\n"
     ]
    }
   ],
   "source": [
    "# class Dog():\n",
    "    # --snip--\n",
    "    \n",
    "my_dog = Dog('willie', 6)\n",
    "\n",
    "print(\"My dog'name is \" + my_dog.name.title() + \".\")\n",
    "print(\"My dog is \" + str(my_dog.age) + \" years old.\")"
   ]
  },
  {
   "cell_type": "code",
   "execution_count": 3,
   "metadata": {},
   "outputs": [
    {
     "output_type": "stream",
     "name": "stdout",
     "text": [
      "Willie is now sitting.\nWillie rolled over!\n"
     ]
    }
   ],
   "source": [
    "my_dog = Dog('willie', 6)\n",
    "my_dog.sit()\n",
    "my_dog.roll_over()"
   ]
  },
  {
   "cell_type": "code",
   "execution_count": 4,
   "metadata": {},
   "outputs": [
    {
     "output_type": "stream",
     "name": "stdout",
     "text": [
      "My dogs name is  Willie.\nMy dog is 6 years old.\nWillie is now sitting.\n\nYour dog name is Lucy.\nYour dog is 3 years old.\nLucy is now sitting.\n"
     ]
    }
   ],
   "source": [
    "my_dog = Dog('willie', 6)\n",
    "your_dog = Dog('lucy', 3)\n",
    "\n",
    "print(\"My dogs name is  \" + my_dog.name.title() + \".\")\n",
    "print(\"My dog is \" + str(my_dog.age) + \" years old.\")\n",
    "my_dog.sit()\n",
    "\n",
    "print(\"\\nYour dog name is \" + your_dog.name.title() + \".\")\n",
    "print(\"Your dog is \" + str(your_dog.age) + \" years old.\")\n",
    "your_dog.sit()"
   ]
  },
  {
   "cell_type": "markdown",
   "metadata": {},
   "source": [
    "### 动手试一试"
   ]
  },
  {
   "cell_type": "code",
   "execution_count": 5,
   "metadata": {},
   "outputs": [],
   "source": [
    "class Restaurant():\n",
    "    \"\"\"餐馆的名称和菜单\"\"\"\n",
    "    \n",
    "    def __init__(self, restaurant_name, cuisin_type):\n",
    "        \"\"\"初始化name和type属性\"\"\"\n",
    "        self.restaurant_name = restaurant_name\n",
    "        self.cuisin_type = cuisin_type\n",
    "        \n",
    "        \n",
    "    def describe_restaurant(self):\n",
    "        \"\"\"模拟打印两个信息\"\"\"\n",
    "        print(\"\\nThe restaurant's name is \" + self.restaurant_name.title())\n",
    "        print(\"The menu have \" + self.cuisin_type)\n",
    "        \n",
    "    def open_restaurant(self):\n",
    "        \"\"\"打印餐馆正在营业\"\"\"\n",
    "        print(\"\\nThe \" + self.restaurant_name.title() + \" is openning.\")"
   ]
  },
  {
   "cell_type": "code",
   "execution_count": 6,
   "metadata": {},
   "outputs": [
    {
     "output_type": "stream",
     "name": "stdout",
     "text": [
      "The restaurant's name is Kfc\nThe cuisin is Fries\n\nThe restaurant's name is Kfc\nThe menu have Fries\n\nThe Kfc is openning.\n"
     ]
    }
   ],
   "source": [
    "restaurant = Restaurant('KFC', 'Fries')\n",
    "print(\"The restaurant's name is \" + restaurant.restaurant_name.title())\n",
    "print(\"The cuisin is \" + restaurant.cuisin_type)\n",
    "\n",
    "restaurant.describe_restaurant()\n",
    "restaurant.open_restaurant()"
   ]
  },
  {
   "cell_type": "code",
   "execution_count": 7,
   "metadata": {},
   "outputs": [
    {
     "output_type": "stream",
     "name": "stdout",
     "text": [
      "\nThe restaurant's name is Mcdonald\nThe menu have Fries\n"
     ]
    }
   ],
   "source": [
    "mcdonald = Restaurant('McDonald', 'Fries')\n",
    "mcdonald.describe_restaurant()"
   ]
  },
  {
   "cell_type": "code",
   "execution_count": 8,
   "metadata": {},
   "outputs": [
    {
     "output_type": "stream",
     "name": "stdout",
     "text": [
      "\nThe restaurant's name is Whole Food\nThe menu have beef\n"
     ]
    }
   ],
   "source": [
    "whole_food = Restaurant('whole food', 'beef')\n",
    "whole_food.describe_restaurant()"
   ]
  },
  {
   "cell_type": "code",
   "execution_count": 9,
   "metadata": {},
   "outputs": [],
   "source": [
    "class User():\n",
    "    \"\"\"用户的姓名和简单信息\"\"\"\n",
    "    \n",
    "    def __init__(self, first_name, last_name, age, gender):\n",
    "        \"\"\"初始化first_name和last_name的属性\"\"\"\n",
    "        self.first_name = first_name\n",
    "        self.last_name = last_name\n",
    "        self.age = age\n",
    "        self.gender = gender\n",
    "        \n",
    "    \n",
    "    def describe_user(self):\n",
    "        \"\"\"打印用户的属性简单信息\"\"\"\n",
    "        print(self.first_name, self.last_name, self.age, self.gender)\n",
    "        \n",
    "            \n",
    "    def greet_user(self):\n",
    "        \"\"\"向客户追个问候\"\"\"\n",
    "        if self.gender == 'women':\n",
    "            print(\"Welcome to lady hub!\")\n",
    "        else:\n",
    "            print(\"Man Fight location\")"
   ]
  },
  {
   "cell_type": "code",
   "execution_count": 10,
   "metadata": {},
   "outputs": [
    {
     "output_type": "stream",
     "name": "stdout",
     "text": [
      "samuel wei 37 man\n"
     ]
    }
   ],
   "source": [
    "user = User('samuel', 'wei', 37, 'man')\n",
    "user.describe_user()"
   ]
  },
  {
   "cell_type": "code",
   "execution_count": 11,
   "metadata": {},
   "outputs": [
    {
     "output_type": "stream",
     "name": "stdout",
     "text": [
      "Man Fight location\n"
     ]
    }
   ],
   "source": [
    "user = User('samuel', 'wei', 37, 'man')\n",
    "user.greet_user()"
   ]
  },
  {
   "cell_type": "code",
   "execution_count": 12,
   "metadata": {},
   "outputs": [
    {
     "output_type": "stream",
     "name": "stdout",
     "text": [
      "Welcome to lady hub!\n"
     ]
    }
   ],
   "source": [
    "user = User('wanda', 'wang', 30, 'women')\n",
    "user.greet_user()"
   ]
  },
  {
   "cell_type": "markdown",
   "metadata": {},
   "source": [
    "## 9.2 使用类和实例"
   ]
  },
  {
   "cell_type": "markdown",
   "metadata": {},
   "source": [
    "### 9.2.1 Car 类"
   ]
  },
  {
   "cell_type": "code",
   "execution_count": 13,
   "metadata": {},
   "outputs": [],
   "source": [
    "class Car():\n",
    "    \"\"\"一次模拟汽车的简单尝试\"\"\"\n",
    "    \n",
    "    \n",
    "    def __init__(self, make, model, year):\n",
    "        \"\"\"初始化描述汽车的属性\"\"\"\n",
    "        self.make = make\n",
    "        self.model = model\n",
    "        self.year = year\n",
    "        \n",
    "        \n",
    "    def get_descriptive_name(self):\n",
    "        \"\"\"返回整洁的描述性文件\"\"\"\n",
    "        long_name = str(self.year) + ' ' + self.make + ' ' + self.model\n",
    "        return long_name.title()"
   ]
  },
  {
   "cell_type": "code",
   "execution_count": 14,
   "metadata": {},
   "outputs": [
    {
     "output_type": "stream",
     "name": "stdout",
     "text": [
      "2016 Audi A4\n"
     ]
    }
   ],
   "source": [
    "my_new_car = Car('audi', 'a4', 2016)\n",
    "print(my_new_car.get_descriptive_name())"
   ]
  },
  {
   "cell_type": "markdown",
   "metadata": {},
   "source": [
    "### 9.2.2 给属性指定默认值"
   ]
  },
  {
   "cell_type": "code",
   "execution_count": 15,
   "metadata": {},
   "outputs": [],
   "source": [
    "class Car():\n",
    "    \n",
    "    \n",
    "    def __init__(self, make, model, year):\n",
    "        \"\"\"初始化描述汽车的属性\"\"\"\n",
    "        self.make = make\n",
    "        self.model = model\n",
    "        self.year = year\n",
    "        self.odometer_reading = 0\n",
    "        \n",
    "        \n",
    "    def get_descriptive_name(self):\n",
    "        \"\"\"返回整洁的描述信息\"\"\"\n",
    "        long_name = str(self.year) + \" \" + self.make + ' ' + self.model\n",
    "        return long_name.title()\n",
    "    \n",
    "    \n",
    "    def read_odometer(self):\n",
    "        \"\"\"打印一条汽车里程的消息\"\"\"\n",
    "        print(\"This car has \" + str(self.odometer_reading) + \" miles on it.\")"
   ]
  },
  {
   "cell_type": "code",
   "execution_count": 16,
   "metadata": {},
   "outputs": [
    {
     "output_type": "stream",
     "name": "stdout",
     "text": [
      "2016 Audi A4\nThis car has 0 miles on it.\n"
     ]
    }
   ],
   "source": [
    "my_new_car = Car('audi', 'a4', 2016)\n",
    "print(my_new_car.get_descriptive_name())\n",
    "my_new_car.read_odometer()"
   ]
  },
  {
   "cell_type": "markdown",
   "metadata": {},
   "source": [
    "### 9.2.3 修改属性的值"
   ]
  },
  {
   "cell_type": "code",
   "execution_count": 17,
   "metadata": {},
   "outputs": [],
   "source": [
    "class Car():\n",
    "    \n",
    "    \n",
    "    def __init__(self, make, model, year):\n",
    "        \"\"\"初始化描述汽车的属性\"\"\"\n",
    "        self.make = make\n",
    "        self.model = model\n",
    "        self.year = year\n",
    "        self.odometer_reading = 0\n",
    "        \n",
    "        \n",
    "    def get_descriptive_name(self):\n",
    "        \"\"\"返回整洁的描述信息\"\"\"\n",
    "        long_name = str(self.year) + \" \" + self.make + ' ' + self.model\n",
    "        return long_name.title()\n",
    "    \n",
    "    \n",
    "    def read_odometer(self):\n",
    "        \"\"\"打印一条汽车里程的消息\"\"\"\n",
    "        print(\"This car has \" + str(self.odometer_reading) + \" miles on it.\")"
   ]
  },
  {
   "cell_type": "code",
   "execution_count": 18,
   "metadata": {},
   "outputs": [
    {
     "output_type": "stream",
     "name": "stdout",
     "text": [
      "2016 Audi A4\nThis car has 23 miles on it.\n"
     ]
    }
   ],
   "source": [
    "# 1.直接修改属性的值\n",
    "my_new_car = Car('audi', 'a4', 2016)\n",
    "print(my_new_car.get_descriptive_name())\n",
    "\n",
    "my_new_car.odometer_reading = 23\n",
    "my_new_car.read_odometer()"
   ]
  },
  {
   "cell_type": "code",
   "execution_count": 19,
   "metadata": {},
   "outputs": [],
   "source": [
    "class Car():\n",
    "    \n",
    "    \n",
    "    def __init__(self, make, model, year):\n",
    "        \"\"\"初始化描述汽车的属性\"\"\"\n",
    "        self.make = make\n",
    "        self.model = model\n",
    "        self.year = year\n",
    "        self.odometer_reading = 0\n",
    "        \n",
    "        \n",
    "    def get_descriptive_name(self):\n",
    "        \"\"\"返回整洁的描述信息\"\"\"\n",
    "        long_name = str(self.year) + \" \" + self.make + ' ' + self.model\n",
    "        return long_name.title()\n",
    "    \n",
    "    \n",
    "    def read_odometer(self):\n",
    "        \"\"\"打印一条汽车里程的消息\"\"\"\n",
    "        print(\"This car has \" + str(self.odometer_reading) + \" miles on it.\")\n",
    "        \n",
    "    \n",
    "    # 2.通过方法修改属性的值\n",
    "    def update_odometer(self, mileage):\n",
    "        \"\"\"将里程表读书设置为指定的值\"\"\"\n",
    "        self.odometer_reading = mileage\n",
    "        "
   ]
  },
  {
   "cell_type": "code",
   "execution_count": 20,
   "metadata": {},
   "outputs": [
    {
     "output_type": "stream",
     "name": "stdout",
     "text": [
      "2016 Audi A4\nThis car has 23 miles on it.\n"
     ]
    }
   ],
   "source": [
    "my_new_car = Car('audi', 'a4', 2016)\n",
    "print(my_new_car.get_descriptive_name())\n",
    "\n",
    "my_new_car.update_odometer(23)\n",
    "my_new_car.read_odometer()"
   ]
  },
  {
   "cell_type": "code",
   "execution_count": 21,
   "metadata": {},
   "outputs": [],
   "source": [
    "class Car():\n",
    "    \n",
    "    \n",
    "    def __init__(self, make, model, year):\n",
    "        \"\"\"初始化描述汽车的属性\"\"\"\n",
    "        self.make = make\n",
    "        self.model = model\n",
    "        self.year = year\n",
    "        self.odometer_reading = 23\n",
    "        \n",
    "        \n",
    "    def get_descriptive_name(self):\n",
    "        \"\"\"返回整洁的描述信息\"\"\"\n",
    "        long_name = str(self.year) + \" \" + self.make + ' ' + self.model\n",
    "        return long_name.title()\n",
    "    \n",
    "    \n",
    "    def read_odometer(self):\n",
    "        \"\"\"打印一条汽车里程的消息\"\"\"\n",
    "        print(\"This car has \" + str(self.odometer_reading) + \" miles on it.\")\n",
    "        \n",
    "    # 2.通过方法修改属性的值--条件限制\n",
    "    def update_odometer(self, mileage):\n",
    "        \"\"\"\n",
    "        将里程表读数设置为指定的值\n",
    "        禁止将里程表读数往回调\n",
    "        \"\"\"\n",
    "        if mileage >= self.odometer_reading:\n",
    "            self.odometer_reading = mileage\n",
    "        else:\n",
    "            print(\"You can't roll back an odometer!\")"
   ]
  },
  {
   "cell_type": "code",
   "execution_count": 22,
   "metadata": {},
   "outputs": [
    {
     "output_type": "stream",
     "name": "stdout",
     "text": [
      "2016 Audi A4\nThis car has 23 miles on it.\n"
     ]
    }
   ],
   "source": [
    "my_new_car = Car('audi', 'a4', 2016)\n",
    "print(my_new_car.get_descriptive_name())\n",
    "\n",
    "my_new_car.update_odometer(23)\n",
    "my_new_car.read_odometer()"
   ]
  },
  {
   "cell_type": "code",
   "execution_count": 23,
   "metadata": {},
   "outputs": [
    {
     "output_type": "stream",
     "name": "stdout",
     "text": [
      "2016 Audi A4\nThis car has 28 miles on it.\n"
     ]
    }
   ],
   "source": [
    "my_new_car = Car('audi', 'a4', 2016)\n",
    "print(my_new_car.get_descriptive_name())\n",
    "\n",
    "my_new_car.update_odometer(28)\n",
    "my_new_car.read_odometer()"
   ]
  },
  {
   "cell_type": "code",
   "execution_count": 24,
   "metadata": {},
   "outputs": [],
   "source": [
    "class Car():\n",
    "    \n",
    "    \n",
    "    def __init__(self, make, model, year):\n",
    "        \"\"\"初始化描述汽车的属性\"\"\"\n",
    "        self.make = make\n",
    "        self.model = model\n",
    "        self.year = year\n",
    "        self.odometer_reading = 23\n",
    "        \n",
    "        \n",
    "    def get_descriptive_name(self):\n",
    "        \"\"\"返回整洁的描述信息\"\"\"\n",
    "        long_name = str(self.year) + \" \" + self.make + ' ' + self.model\n",
    "        return long_name.title()\n",
    "    \n",
    "    \n",
    "    def read_odometer(self):\n",
    "        \"\"\"打印一条汽车里程的消息\"\"\"\n",
    "        print(\"This car has \" + str(self.odometer_reading) + \" miles on it.\")\n",
    "        \n",
    "    # 通过方法修改属性的值\n",
    "    def update_odometer(self, mileage):\n",
    "        \"\"\"\n",
    "        将里程表读数设置为指定的值\n",
    "        禁止将里程表读数往回调\n",
    "        \"\"\"\n",
    "        if mileage >= self.odometer_reading:\n",
    "            self.odometer_reading = mileage\n",
    "        else:\n",
    "            print(\"You can't roll back an odometer!\")\n",
    "            \n",
    "    \n",
    "    # 3.通过方法对属性的值进行递增\n",
    "    def increment_odometer(self, miles):\n",
    "        \"\"\"将里程表读数增加指定的量\"\"\"\n",
    "        self.odometer_reading += miles\n",
    "        "
   ]
  },
  {
   "cell_type": "code",
   "execution_count": 25,
   "metadata": {},
   "outputs": [
    {
     "output_type": "stream",
     "name": "stdout",
     "text": [
      "2016 Audi A4\nThis car has 23500 miles on it.\nThis car has 23600 miles on it.\n"
     ]
    }
   ],
   "source": [
    "my_new_car = Car('audi', 'a4', 2016)\n",
    "print(my_new_car.get_descriptive_name())\n",
    "\n",
    "my_new_car.update_odometer(23500)\n",
    "my_new_car.read_odometer()\n",
    "\n",
    "my_new_car.increment_odometer(100)\n",
    "my_new_car.read_odometer()"
   ]
  },
  {
   "cell_type": "markdown",
   "metadata": {},
   "source": [
    "### 动手试一试"
   ]
  },
  {
   "cell_type": "code",
   "execution_count": 26,
   "metadata": {},
   "outputs": [],
   "source": [
    "class Restaurant():\n",
    "    \"\"\"餐馆的名称和菜单\"\"\"\n",
    "    \n",
    "    def __init__(self, restaurant_name, cuisin_type):\n",
    "        \"\"\"初始化name和type属性\"\"\"\n",
    "        self.restaurant_name = restaurant_name\n",
    "        self.cuisin_type = cuisin_type\n",
    "        self.number_served = 1000\n",
    "        \n",
    "        \n",
    "    def describe_restaurant(self):\n",
    "        \"\"\"模拟打印两个信息\"\"\"\n",
    "        print(\"\\nThe restaurant's name is \" + self.restaurant_name.title())\n",
    "        print(\"The menu have \" + self.cuisin_type)\n",
    "        \n",
    "        \n",
    "    def open_restaurant(self):\n",
    "        \"\"\"打印餐馆正在营业\"\"\"\n",
    "        print(\"\\nThe \" + self.restaurant_name.title() + \" is openning.\")\n",
    "    "
   ]
  },
  {
   "cell_type": "code",
   "execution_count": 27,
   "metadata": {},
   "outputs": [
    {
     "output_type": "stream",
     "name": "stdout",
     "text": [
      "1000 peoples have dine at KFC\n"
     ]
    }
   ],
   "source": [
    "restaurant = Restaurant('KFC', 'Fries')\n",
    "print(str(restaurant.number_served) + \" peoples have dine at \" + restaurant.restaurant_name )"
   ]
  },
  {
   "cell_type": "code",
   "execution_count": 28,
   "metadata": {},
   "outputs": [],
   "source": [
    "class Restaurant():\n",
    "    \"\"\"餐馆的名称和菜单\"\"\"\n",
    "    \n",
    "    def __init__(self, restaurant_name, cuisin_type):\n",
    "        \"\"\"初始化name和type属性\"\"\"\n",
    "        self.restaurant_name = restaurant_name\n",
    "        self.cuisin_type = cuisin_type\n",
    "        self.number_served = 0\n",
    "        \n",
    "        \n",
    "    def describe_restaurant(self):\n",
    "        \"\"\"模拟打印两个信息\"\"\"\n",
    "        print(\"\\nThe restaurant's name is \" + self.restaurant_name.title())\n",
    "        print(\"The menu have \" + self.cuisin_type)\n",
    "        \n",
    "        \n",
    "    def open_restaurant(self):\n",
    "        \"\"\"打印餐馆正在营业\"\"\"\n",
    "        print(\"\\nThe \" + self.restaurant_name.title() + \" is openning.\")\n",
    "    \n",
    "    \n",
    "    def set_number_served(self, peoples):\n",
    "        \"\"\"将服务过的人数设置为指定的值\"\"\"\n",
    "        self.number_served = peoples\n",
    "        "
   ]
  },
  {
   "cell_type": "code",
   "execution_count": 29,
   "metadata": {},
   "outputs": [
    {
     "output_type": "stream",
     "name": "stdout",
     "text": [
      "30\n30\n"
     ]
    }
   ],
   "source": [
    "restaurant = Restaurant('KFC', 'Fries')\n",
    "restaurant.set_number_served(30)\n",
    "print(str(restaurant.number_served))\n",
    "print(restaurant.number_served)"
   ]
  },
  {
   "cell_type": "code",
   "execution_count": 30,
   "metadata": {},
   "outputs": [],
   "source": [
    "class Restaurant():\n",
    "    \"\"\"餐馆的名称和菜单\"\"\"\n",
    "    \n",
    "    def __init__(self, restaurant_name, cuisin_type):\n",
    "        \"\"\"初始化name和type属性\"\"\"\n",
    "        self.restaurant_name = restaurant_name\n",
    "        self.cuisin_type = cuisin_type\n",
    "        self.number_served = 0\n",
    "        \n",
    "        \n",
    "    def describe_restaurant(self):\n",
    "        \"\"\"模拟打印两个信息\"\"\"\n",
    "        print(\"\\nThe restaurant's name is \" + self.restaurant_name.title())\n",
    "        print(\"The menu have \" + self.cuisin_type)\n",
    "        \n",
    "        \n",
    "    def open_restaurant(self):\n",
    "        \"\"\"打印餐馆正在营业\"\"\"\n",
    "        print(\"\\nThe \" + self.restaurant_name.title() + \" is openning.\")\n",
    "    \n",
    "    \n",
    "    def set_number_served(self, peoples):\n",
    "        \"\"\"将服务过的人数设置为指定的值\"\"\"\n",
    "        self.number_served = peoples\n",
    "    \n",
    "    \n",
    "    def increment_number_served(self, dines):\n",
    "        \"\"\"设置递增的人数就餐\"\"\"\n",
    "        self.number_served += dines\n",
    "        "
   ]
  },
  {
   "cell_type": "code",
   "execution_count": 31,
   "metadata": {},
   "outputs": [
    {
     "output_type": "stream",
     "name": "stdout",
     "text": [
      "20 peoples has dine at KFC\n70 peoples have dine every day.\n"
     ]
    }
   ],
   "source": [
    "restaurant = Restaurant('KFC', 'Fries')\n",
    "restaurant.set_number_served(20)\n",
    "print(str(restaurant.number_served) + \n",
    "      \" peoples has dine at \" + restaurant.restaurant_name)\n",
    "\n",
    "restaurant.increment_number_served(50)\n",
    "print(str(restaurant.number_served) + \" peoples have dine every day.\")"
   ]
  },
  {
   "cell_type": "code",
   "execution_count": 32,
   "metadata": {},
   "outputs": [],
   "source": [
    "class User():\n",
    "    \"\"\"用户的姓名和简单信息\"\"\"\n",
    "    \n",
    "    def __init__(self, first_name, last_name, age, gender):\n",
    "        \"\"\"初始化first_name和last_name的属性\"\"\"\n",
    "        self.first_name = first_name\n",
    "        self.last_name = last_name\n",
    "        self.age = age\n",
    "        self.gender = gender\n",
    "        self.login_attempts = 0\n",
    "        \n",
    "    \n",
    "    def describe_user(self):\n",
    "        \"\"\"打印用户的属性简单信息\"\"\"\n",
    "        print(self.first_name, self.last_name, self.age, self.gender)\n",
    "        \n",
    "            \n",
    "    def greet_user(self):\n",
    "        \"\"\"向客户追个问候\"\"\"\n",
    "        if self.gender == 'women':\n",
    "            print(\"Welcome to lady hub!\")\n",
    "        else:\n",
    "            print(\"Man Fight location\")\n",
    "            \n",
    "    \n",
    "    def increment_login_attempts(self):\n",
    "        \"\"\"设置login_attempts为指定的值\"\"\"\n",
    "        self.login_attempts += 1\n",
    "        \n",
    "        \n",
    "    def reset_login_attempts(self):\n",
    "        \"\"\"重置login_attempts为指定的值\"\"\"\n",
    "        self.login_attempts = 0\n",
    "        \n",
    "    "
   ]
  },
  {
   "cell_type": "code",
   "execution_count": 33,
   "metadata": {},
   "outputs": [
    {
     "output_type": "stream",
     "name": "stdout",
     "text": [
      "0\n"
     ]
    }
   ],
   "source": [
    "user = User('samuel', 'wei', 37, 'man')\n",
    "user.increment_login_attempts()\n",
    "user.reset_login_attempts()\n",
    "print(user.login_attempts)"
   ]
  },
  {
   "cell_type": "markdown",
   "metadata": {},
   "source": [
    "## 9.3 继承"
   ]
  },
  {
   "cell_type": "markdown",
   "metadata": {},
   "source": [
    "### 9.3.1 子类的方法"
   ]
  },
  {
   "cell_type": "code",
   "execution_count": 34,
   "metadata": {},
   "outputs": [],
   "source": [
    "# 父类\n",
    "class Car():\n",
    "    \n",
    "    \n",
    "    def __init__(self, make, model, year):\n",
    "        \"\"\"初始化描述汽车的属性\"\"\"\n",
    "        self.make = make\n",
    "        self.model = model\n",
    "        self.year = year\n",
    "        self.odometer_reading = 23\n",
    "        \n",
    "        \n",
    "    def get_descriptive_name(self):\n",
    "        \"\"\"返回整洁的描述信息\"\"\"\n",
    "        long_name = str(self.year) + \" \" + self.make + ' ' + self.model\n",
    "        return long_name.title()\n",
    "    \n",
    "    \n",
    "    def read_odometer(self):\n",
    "        \"\"\"打印一条汽车里程的消息\"\"\"\n",
    "        print(\"This car has \" + str(self.odometer_reading) + \" miles on it.\")\n",
    "        \n",
    "    # 通过方法修改属性的值\n",
    "    def update_odometer(self, mileage):\n",
    "        \"\"\"\n",
    "        将里程表读数设置为指定的值\n",
    "        禁止将里程表读数往回调\n",
    "        \"\"\"\n",
    "        if mileage >= self.odometer_reading:\n",
    "            self.odometer_reading = mileage\n",
    "        else:\n",
    "            print(\"You can't roll back an odometer!\")\n",
    "            \n",
    "    \n",
    "    # 3.通过方法对属性的值进行递增\n",
    "    def increment_odometer(self, miles):\n",
    "        \"\"\"将里程表读数增加指定的量\"\"\"\n",
    "        self.odometer_reading += miles"
   ]
  },
  {
   "cell_type": "code",
   "execution_count": 35,
   "metadata": {},
   "outputs": [],
   "source": [
    "class ElectricCar(Car):\n",
    "    \"\"\"电动汽车的独特之处\"\"\"\n",
    "    \n",
    "    \n",
    "    def __init__(self, make, model, year):\n",
    "        \"\"\"初始化父类的属性\"\"\"\n",
    "        super().__init__(make, model, year)\n",
    "        "
   ]
  },
  {
   "cell_type": "code",
   "execution_count": 36,
   "metadata": {},
   "outputs": [
    {
     "output_type": "stream",
     "name": "stdout",
     "text": [
      "2016 Tesla Model S\n"
     ]
    }
   ],
   "source": [
    "my_tesla = ElectricCar('tesla', 'model s', 2016)\n",
    "print(my_tesla.get_descriptive_name())"
   ]
  },
  {
   "cell_type": "markdown",
   "metadata": {},
   "source": [
    "### 9.3.3 给子类定义属性和方法"
   ]
  },
  {
   "cell_type": "code",
   "execution_count": 37,
   "metadata": {},
   "outputs": [],
   "source": [
    "class ElectricCar(Car):\n",
    "    \"\"\"Represent aspects of a car, specific to electric vehicles.\"\"\"\n",
    "    \n",
    "    \n",
    "    def __init__(self, make, model, year):\n",
    "        \"\"\"\n",
    "        电动车的独特之处\n",
    "        初始化父类的属性，再初始化电动汽车特有的属性\n",
    "        \"\"\"\n",
    "        super().__init__(make, model, year)\n",
    "        self.battery_size = 70\n",
    "        \n",
    "        \n",
    "    def describe_battery(self):\n",
    "        \"\"\"打印一条描述电瓶容量的消息\"\"\"\n",
    "        print(\"This car has a \" + str(self.battery_size) + \"-kWh battery.\")"
   ]
  },
  {
   "cell_type": "code",
   "execution_count": 38,
   "metadata": {},
   "outputs": [
    {
     "output_type": "stream",
     "name": "stdout",
     "text": [
      "2016 Tesla Model S\nThis car has a 70-kWh battery.\n"
     ]
    }
   ],
   "source": [
    "my_tesla = ElectricCar('tesla', 'model s', 2016)\n",
    "print(my_tesla.get_descriptive_name())\n",
    "my_tesla.describe_battery()"
   ]
  },
  {
   "cell_type": "markdown",
   "metadata": {},
   "source": [
    "### 9.3.4 重写父类的方法"
   ]
  },
  {
   "cell_type": "code",
   "execution_count": 39,
   "metadata": {},
   "outputs": [],
   "source": [
    "class ElectricCar(Car):\n",
    "    \"\"\"Represent aspects of a car, specific to electric vehicles.\"\"\"\n",
    "    \n",
    "    \n",
    "    def __init__(self, make, model, year):\n",
    "        \"\"\"\n",
    "        电动车的独特之处\n",
    "        初始化父类的属性，再初始化电动汽车特有的属性\n",
    "        \"\"\"\n",
    "        super().__init__(make, model, year)\n",
    "        self.battery_size = 70\n",
    "        \n",
    "        \n",
    "    def describe_battery(self):\n",
    "        \"\"\"打印一条描述电瓶容量的消息\"\"\"\n",
    "        print(\"This car has a \" + str(self.battery_size) + \"-kWh battery.\")\n",
    "        \n",
    "        \n",
    "    def fill_gas_tank():\n",
    "        \"\"\"电动汽车没有邮箱\"\"\"\n",
    "        print(\"This car doesn't need a gas tank!\")\n",
    "        "
   ]
  },
  {
   "cell_type": "markdown",
   "metadata": {},
   "source": [
    "### 9.3.5 将实例用作属性"
   ]
  },
  {
   "cell_type": "code",
   "execution_count": 40,
   "metadata": {},
   "outputs": [],
   "source": [
    "# 父类\n",
    "class Car():\n",
    "    \n",
    "    \n",
    "    def __init__(self, make, model, year):\n",
    "        \"\"\"初始化描述汽车的属性\"\"\"\n",
    "        self.make = make\n",
    "        self.model = model\n",
    "        self.year = year\n",
    "        self.odometer_reading = 23\n",
    "        \n",
    "        \n",
    "    def get_descriptive_name(self):\n",
    "        \"\"\"返回整洁的描述信息\"\"\"\n",
    "        long_name = str(self.year) + \" \" + self.make + ' ' + self.model\n",
    "        return long_name.title()\n",
    "    \n",
    "    \n",
    "    def read_odometer(self):\n",
    "        \"\"\"打印一条汽车里程的消息\"\"\"\n",
    "        print(\"This car has \" + str(self.odometer_reading) + \" miles on it.\")\n",
    "        \n",
    "    # 通过方法修改属性的值\n",
    "    def update_odometer(self, mileage):\n",
    "        \"\"\"\n",
    "        将里程表读数设置为指定的值\n",
    "        禁止将里程表读数往回调\n",
    "        \"\"\"\n",
    "        if mileage >= self.odometer_reading:\n",
    "            self.odometer_reading = mileage\n",
    "        else:\n",
    "            print(\"You can't roll back an odometer!\")\n",
    "            \n",
    "    \n",
    "    # 3.通过方法对属性的值进行递增\n",
    "    def increment_odometer(self, miles):\n",
    "        \"\"\"将里程表读数增加指定的量\"\"\"\n",
    "        self.odometer_reading += miles"
   ]
  },
  {
   "cell_type": "code",
   "execution_count": 41,
   "metadata": {},
   "outputs": [],
   "source": [
    "class Battery():\n",
    "    \"\"\"一次模拟电动汽车电瓶的简单尝试\"\"\"\n",
    "    \n",
    "    \n",
    "    def __init__(self, battery_size=70):\n",
    "        \"\"\"初始化电瓶的属性\"\"\"\n",
    "        self.battery_size = battery_size\n",
    "    \n",
    "    \n",
    "    def describe_battery(self):\n",
    "        \"\"\"打印一条描述电瓶容器的消息\"\"\"\n",
    "        print(\"This car has a \" + str(self.battery_size) + \"-kWh battery.\")\n",
    "        "
   ]
  },
  {
   "cell_type": "code",
   "execution_count": 42,
   "metadata": {},
   "outputs": [],
   "source": [
    "# 子类\n",
    "class ElectricCar(Car):\n",
    "    \"\"\"\n",
    "    电动汽车的特有之处\n",
    "    \"\"\"\n",
    "    \n",
    "    \n",
    "    def __init__(self, make, model, year):\n",
    "        \"\"\"\n",
    "        初始化父类的属性，再初始化电动车特有的属性\n",
    "        \"\"\"\n",
    "        super().__init__(make, model, year)\n",
    "        self.battery = Battery()\n",
    "        "
   ]
  },
  {
   "cell_type": "code",
   "execution_count": 43,
   "metadata": {},
   "outputs": [
    {
     "output_type": "stream",
     "name": "stdout",
     "text": [
      "2016 Tesla Model S\nThis car has a 70-kWh battery.\n"
     ]
    }
   ],
   "source": [
    "my_tesla = ElectricCar('tesla', 'model s', 2016)\n",
    "\n",
    "print(my_tesla.get_descriptive_name())\n",
    "my_tesla.battery.describe_battery()"
   ]
  },
  {
   "cell_type": "code",
   "execution_count": 44,
   "metadata": {},
   "outputs": [],
   "source": [
    "class Battery():\n",
    "    \"\"\"一次模拟电动汽车电瓶的简单尝试\"\"\"\n",
    "    \n",
    "    \n",
    "    def __init__(self, battery_size=70):\n",
    "        \"\"\"初始化电瓶的属性\"\"\"\n",
    "        self.battery_size = battery_size\n",
    "    \n",
    "    \n",
    "    def describe_battery(self):\n",
    "        \"\"\"打印一条描述电瓶容器的消息\"\"\"\n",
    "        print(\"This car has a \" + str(self.battery_size) + \"-kWh battery.\")\n",
    "        \n",
    "        \n",
    "    def get_range(self):\n",
    "        \"\"\"打印一条信息，指出电瓶的续航里程\"\"\"\n",
    "        if self.battery_size == 70:\n",
    "            range = 240\n",
    "        elif self.battery_size == 85:\n",
    "            range = 270\n",
    "        message = \"This car can go approximately \" + str(range)\n",
    "        message += \" miles on full charge.\"\n",
    "        print(message)        "
   ]
  },
  {
   "cell_type": "code",
   "execution_count": 45,
   "metadata": {},
   "outputs": [],
   "source": [
    "# 子类\n",
    "class ElectricCar(Car):\n",
    "    \"\"\"\n",
    "    电动汽车的特有之处\n",
    "    \"\"\"\n",
    "    \n",
    "    \n",
    "    def __init__(self, make, model, year):\n",
    "        \"\"\"\n",
    "        初始化父类的属性，再初始化电动车特有的属性\n",
    "        \"\"\"\n",
    "        super().__init__(make, model, year)\n",
    "        self.battery = Battery()"
   ]
  },
  {
   "cell_type": "code",
   "execution_count": 46,
   "metadata": {},
   "outputs": [
    {
     "output_type": "stream",
     "name": "stdout",
     "text": [
      "2016 Tesla Model S\nThis car has a 70-kWh battery.\nThis car can go approximately 240 miles on full charge.\n"
     ]
    }
   ],
   "source": [
    "my_tesla = ElectricCar('tesla', 'model s', 2016)\n",
    "print(my_tesla.get_descriptive_name())\n",
    "my_tesla.battery.describe_battery()\n",
    "my_tesla.battery.get_range()"
   ]
  },
  {
   "cell_type": "markdown",
   "metadata": {},
   "source": [
    "### 9.3.6 模拟实物"
   ]
  },
  {
   "source": [
    "## 9.4 \n",
    "## 导入类"
   ],
   "cell_type": "markdown",
   "metadata": {}
  },
  {
   "source": [
    "### 9.4.1\n",
    "### 导入单个类"
   ],
   "cell_type": "markdown",
   "metadata": {}
  },
  {
   "cell_type": "code",
   "execution_count": null,
   "metadata": {},
   "outputs": [],
   "source": []
  }
 ],
 "metadata": {
  "kernelspec": {
   "name": "python3",
   "display_name": "Python 3.8.0 64-bit"
  },
  "language_info": {
   "codemirror_mode": {
    "name": "ipython",
    "version": 3
   },
   "file_extension": ".py",
   "mimetype": "text/x-python",
   "name": "python",
   "nbconvert_exporter": "python",
   "pygments_lexer": "ipython3",
   "version": "3.8.0"
  },
  "interpreter": {
   "hash": "31f2aee4e71d21fbe5cf8b01ff0e069b9275f58929596ceb00d14d90e3e16cd6"
  }
 },
 "nbformat": 4,
 "nbformat_minor": 4
}